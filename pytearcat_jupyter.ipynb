{
 "cells": [
  {
   "cell_type": "code",
   "execution_count": 2,
   "metadata": {},
   "outputs": [],
   "source": [
    "import pytearcat as pt\n"
   ]
  },
  {
   "cell_type": "code",
   "execution_count": 3,
   "metadata": {},
   "outputs": [
    {
     "name": "stdout",
     "output_type": "stream",
     "text": [
      "Remember that the time coordinate must be the first coordinate.\n",
      "\n",
      "Dimension = 4\n",
      "Coordinates = t,r,theta,phi\n",
      "Metric defined successfully: \n",
      "\n"
     ]
    },
    {
     "data": {
      "text/latex": [
       "$\\displaystyle ds^2 = -1 \\cdot dt^2+\\frac{a^{2}{\\left(t \\right)}}{- k r^{2} + 1} \\cdot dr^2+r^{2} a^{2}{\\left(t \\right)} \\cdot d\\theta^2+r^{2} a^{2}{\\left(t \\right)} \\sin^{2}{\\left(\\theta \\right)} \\cdot d\\phi^2$"
      ],
      "text/plain": [
       "<IPython.core.display.Math object>"
      ]
     },
     "metadata": {},
     "output_type": "display_data"
    },
    {
     "data": {
      "text/latex": [
       "$\\displaystyle ds^2 = -1 \\cdot dt^2+\\frac{a^{2}{\\left(t \\right)}}{- k r^{2} + 1} \\cdot dr^2+r^{2} a^{2}{\\left(t \\right)} \\cdot d\\theta^2+r^{2} a^{2}{\\left(t \\right)} \\sin^{2}{\\left(\\theta \\right)} \\cdot d\\phi^2$"
      ],
      "text/plain": [
       "<IPython.core.display.Math object>"
      ]
     },
     "metadata": {},
     "output_type": "display_data"
    }
   ],
   "source": [
    "\n",
    "t, r, theta, phi = pt.coords('t,r,theta,phi')\n",
    "k, c = pt.con('k', 'c')\n",
    "\n",
    "a = pt.fun('a', 't')\n",
    "\n",
    "ds = 'ds2 = -dt**2 + a**2 * (1/(1 - k*r**2)*dr**2 + r**2 * dtheta**2 + r**2*sin(theta)**2 * dphi**2)'\n",
    "\n",
    "g = pt.metric(ds)"
   ]
  }
 ],
 "metadata": {
  "kernelspec": {
   "display_name": "Python 3",
   "language": "python",
   "name": "python3"
  },
  "language_info": {
   "codemirror_mode": {
    "name": "ipython",
    "version": 3
   },
   "file_extension": ".py",
   "mimetype": "text/x-python",
   "name": "python",
   "nbconvert_exporter": "python",
   "pygments_lexer": "ipython3",
   "version": "3.12.3"
  }
 },
 "nbformat": 4,
 "nbformat_minor": 2
}
